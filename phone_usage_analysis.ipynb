{
 "cells": [
  {
   "cell_type": "code",
   "execution_count": 0,
   "metadata": {
    "application/vnd.databricks.v1+cell": {
     "cellMetadata": {
      "byteLimit": 2048000,
      "rowLimit": 10000
     },
     "inputWidgets": {},
     "nuid": "d78bb274-7dfd-450e-ad0a-48d0bf13d0fd",
     "showTitle": false,
     "tableResultSettingsMap": {},
     "title": ""
    }
   },
   "outputs": [
    {
     "output_type": "stream",
     "name": "stdout",
     "output_type": "stream",
     "text": [
      "start project\n"
     ]
    }
   ],
   "source": [
    "print('start project' )"
   ]
  },
  {
   "cell_type": "code",
   "execution_count": 0,
   "metadata": {
    "application/vnd.databricks.v1+cell": {
     "cellMetadata": {
      "byteLimit": 2048000,
      "rowLimit": 10000
     },
     "inputWidgets": {},
     "nuid": "d41ffbce-ef26-479b-9ed0-160eaf4697e2",
     "showTitle": false,
     "tableResultSettingsMap": {},
     "title": ""
    }
   },
   "outputs": [],
   "source": [
    "from pyspark.sql import SparkSession\n",
    "from pyspark.sql.functions import col"
   ]
  },
  {
   "cell_type": "code",
   "execution_count": 0,
   "metadata": {
    "application/vnd.databricks.v1+cell": {
     "cellMetadata": {
      "byteLimit": 2048000,
      "rowLimit": 10000
     },
     "inputWidgets": {},
     "nuid": "df4aa7d8-1a7d-4796-83c0-56aaed0a77ff",
     "showTitle": false,
     "tableResultSettingsMap": {},
     "title": ""
    }
   },
   "outputs": [],
   "source": [
    "spark=SparkSession.builder.appName('first project').getOrCreate()"
   ]
  },
  {
   "cell_type": "code",
   "execution_count": 0,
   "metadata": {
    "application/vnd.databricks.v1+cell": {
     "cellMetadata": {
      "byteLimit": 2048000,
      "rowLimit": 10000
     },
     "inputWidgets": {},
     "nuid": "ed6333cd-bf81-480f-9a07-6f1bcf577d50",
     "showTitle": false,
     "tableResultSettingsMap": {},
     "title": ""
    }
   },
   "outputs": [],
   "source": [
    "data=spark.read.csv('/FileStore/tables/phone_usage_india_csv_I4xSL-1.csv',header=True,inferSchema=True)"
   ]
  },
  {
   "cell_type": "code",
   "execution_count": 0,
   "metadata": {
    "application/vnd.databricks.v1+cell": {
     "cellMetadata": {
      "byteLimit": 2048000,
      "rowLimit": 10000
     },
     "inputWidgets": {},
     "nuid": "9e8c0d76-c67d-4ab4-a080-ec48b7f037ee",
     "showTitle": false,
     "tableResultSettingsMap": {},
     "title": ""
    }
   },
   "outputs": [
    {
     "output_type": "stream",
     "name": "stdout",
     "output_type": "stream",
     "text": [
      "root\n |-- User ID: string (nullable = true)\n |-- Age: integer (nullable = true)\n |-- Gender: string (nullable = true)\n |-- Location: string (nullable = true)\n |-- Phone Brand: string (nullable = true)\n |-- OS: string (nullable = true)\n |-- Screen Time (hrs/day): double (nullable = true)\n |-- Data Usage (GB/month): double (nullable = true)\n |-- Calls Duration (mins/day): double (nullable = true)\n |-- Number of Apps Installed: integer (nullable = true)\n |-- Social Media Time (hrs/day): double (nullable = true)\n |-- E-commerce Spend (INR/month): integer (nullable = true)\n |-- Streaming Time (hrs/day): double (nullable = true)\n |-- Gaming Time (hrs/day): double (nullable = true)\n |-- Monthly Recharge Cost (INR): integer (nullable = true)\n |-- Primary Use: string (nullable = true)\n\n"
     ]
    }
   ],
   "source": [
    "data.printSchema()"
   ]
  },
  {
   "cell_type": "code",
   "execution_count": 0,
   "metadata": {
    "application/vnd.databricks.v1+cell": {
     "cellMetadata": {
      "byteLimit": 2048000,
      "rowLimit": 10000
     },
     "inputWidgets": {},
     "nuid": "7be5f7e0-01d6-4854-9502-28c8d426d8bf",
     "showTitle": false,
     "tableResultSettingsMap": {},
     "title": ""
    }
   },
   "outputs": [
    {
     "output_type": "stream",
     "name": "stdout",
     "output_type": "stream",
     "text": [
      "+-------+---+------+---------+-----------+-------+---------------------+---------------------+-------------------------+------------------------+---------------------------+----------------------------+------------------------+---------------------+---------------------------+-------------+\n|User ID|Age|Gender| Location|Phone Brand|     OS|Screen Time (hrs/day)|Data Usage (GB/month)|Calls Duration (mins/day)|Number of Apps Installed|Social Media Time (hrs/day)|E-commerce Spend (INR/month)|Streaming Time (hrs/day)|Gaming Time (hrs/day)|Monthly Recharge Cost (INR)|  Primary Use|\n+-------+---+------+---------+-----------+-------+---------------------+---------------------+-------------------------+------------------------+---------------------------+----------------------------+------------------------+---------------------+---------------------------+-------------+\n| U00001| 53|  Male|   Mumbai|       Vivo|Android|                  3.7|                 23.9|                     37.9|                     104|                        3.9|                         469|                     5.2|                  4.1|                        803|    Education|\n| U00002| 60| Other|    Delhi|     Realme|    iOS|                  9.2|                 28.1|                     13.7|                     169|                        2.8|                        4997|                     5.1|                  0.4|                       1526|       Gaming|\n| U00003| 37|Female|Ahmedabad|      Nokia|Android|                  4.5|                 12.3|                     66.8|                      96|                        3.0|                        2381|                     1.7|                  2.9|                       1619|Entertainment|\n| U00004| 32|  Male|     Pune|    Samsung|Android|                 11.0|                 25.6|                    156.2|                     146|                        5.2|                        1185|                     3.2|                  0.3|                       1560|Entertainment|\n| U00005| 16|  Male|   Mumbai|     Xiaomi|    iOS|                  2.2|                  2.5|                    236.2|                      86|                        5.5|                         106|                     3.4|                  2.3|                        742| Social Media|\n+-------+---+------+---------+-----------+-------+---------------------+---------------------+-------------------------+------------------------+---------------------------+----------------------------+------------------------+---------------------+---------------------------+-------------+\nonly showing top 5 rows\n\n"
     ]
    }
   ],
   "source": [
    "data.show(5)"
   ]
  },
  {
   "cell_type": "code",
   "execution_count": 0,
   "metadata": {
    "application/vnd.databricks.v1+cell": {
     "cellMetadata": {
      "byteLimit": 2048000,
      "rowLimit": 10000
     },
     "inputWidgets": {},
     "nuid": "bb5b98df-5234-4899-b46c-b6e201510050",
     "showTitle": false,
     "tableResultSettingsMap": {},
     "title": ""
    }
   },
   "outputs": [
    {
     "output_type": "stream",
     "name": "stdout",
     "output_type": "stream",
     "text": [
      "Out[21]: 16"
     ]
    }
   ],
   "source": [
    "len(data.columns)"
   ]
  },
  {
   "cell_type": "code",
   "execution_count": 0,
   "metadata": {
    "application/vnd.databricks.v1+cell": {
     "cellMetadata": {
      "byteLimit": 2048000,
      "rowLimit": 10000
     },
     "inputWidgets": {},
     "nuid": "bfdc900c-45df-430e-8d59-d1035733cd57",
     "showTitle": false,
     "tableResultSettingsMap": {},
     "title": ""
    }
   },
   "outputs": [
    {
     "output_type": "stream",
     "name": "stdout",
     "output_type": "stream",
     "text": [
      "Out[22]: 17686"
     ]
    }
   ],
   "source": [
    "data.count()"
   ]
  },
  {
   "cell_type": "code",
   "execution_count": 0,
   "metadata": {
    "application/vnd.databricks.v1+cell": {
     "cellMetadata": {
      "byteLimit": 2048000,
      "rowLimit": 10000
     },
     "inputWidgets": {},
     "nuid": "eb817fd8-48f8-4511-b99d-aeb078064768",
     "showTitle": false,
     "tableResultSettingsMap": {},
     "title": ""
    }
   },
   "outputs": [
    {
     "output_type": "stream",
     "name": "stdout",
     "output_type": "stream",
     "text": [
      "Out[23]: [('User ID', 'string'),\n ('Age', 'int'),\n ('Gender', 'string'),\n ('Location', 'string'),\n ('Phone Brand', 'string'),\n ('OS', 'string'),\n ('Screen Time (hrs/day)', 'double'),\n ('Data Usage (GB/month)', 'double'),\n ('Calls Duration (mins/day)', 'double'),\n ('Number of Apps Installed', 'int'),\n ('Social Media Time (hrs/day)', 'double'),\n ('E-commerce Spend (INR/month)', 'int'),\n ('Streaming Time (hrs/day)', 'double'),\n ('Gaming Time (hrs/day)', 'double'),\n ('Monthly Recharge Cost (INR)', 'int'),\n ('Primary Use', 'string')]"
     ]
    }
   ],
   "source": [
    "data.dtypes"
   ]
  },
  {
   "cell_type": "code",
   "execution_count": 0,
   "metadata": {
    "application/vnd.databricks.v1+cell": {
     "cellMetadata": {
      "byteLimit": 2048000,
      "rowLimit": 10000
     },
     "inputWidgets": {},
     "nuid": "3150b132-8f14-4542-90fb-16320d517b17",
     "showTitle": false,
     "tableResultSettingsMap": {},
     "title": ""
    }
   },
   "outputs": [
    {
     "output_type": "stream",
     "name": "stdout",
     "output_type": "stream",
     "text": [
      "User ID-- string\nAge-- int\nGender-- string\nLocation-- string\nPhone Brand-- string\nOS-- string\nScreen Time (hrs/day)-- double\nData Usage (GB/month)-- double\nCalls Duration (mins/day)-- double\nNumber of Apps Installed-- int\nSocial Media Time (hrs/day)-- double\nE-commerce Spend (INR/month)-- int\nStreaming Time (hrs/day)-- double\nGaming Time (hrs/day)-- double\nMonthly Recharge Cost (INR)-- int\nPrimary Use-- string\n"
     ]
    }
   ],
   "source": [
    "for col,typ in data.dtypes:\n",
    "    print(f'{col}-- {typ}')"
   ]
  },
  {
   "cell_type": "code",
   "execution_count": 0,
   "metadata": {
    "application/vnd.databricks.v1+cell": {
     "cellMetadata": {
      "byteLimit": 2048000,
      "rowLimit": 10000
     },
     "inputWidgets": {},
     "nuid": "ba34caee-6f0d-4afb-9229-1295beea26b4",
     "showTitle": false,
     "tableResultSettingsMap": {},
     "title": ""
    }
   },
   "outputs": [
    {
     "output_type": "stream",
     "name": "stdout",
     "output_type": "stream",
     "text": [
      "+-------+-------+------------------+------+---------+-----------+-------+---------------------+---------------------+-------------------------+------------------------+---------------------------+----------------------------+------------------------+---------------------+---------------------------+-----------+\n|summary|User ID|               Age|Gender| Location|Phone Brand|     OS|Screen Time (hrs/day)|Data Usage (GB/month)|Calls Duration (mins/day)|Number of Apps Installed|Social Media Time (hrs/day)|E-commerce Spend (INR/month)|Streaming Time (hrs/day)|Gaming Time (hrs/day)|Monthly Recharge Cost (INR)|Primary Use|\n+-------+-------+------------------+------+---------+-----------+-------+---------------------+---------------------+-------------------------+------------------------+---------------------------+----------------------------+------------------------+---------------------+---------------------------+-----------+\n|  count|  17686|             17686| 17686|    17686|      17686|  17686|                17686|                17686|                    17686|                   17686|                      17686|                       17686|                   17686|                17686|                      17686|      17686|\n|   mean|   null| 37.58424742734366|  null|     null|       null|   null|    6.546375664367289|   25.411257491801486|        151.4058464322059|      104.58486938821667|         3.2523691055071704|            5075.70784801538|      4.2506163066832565|    2.490874137736062|         1042.7853669569151|       null|\n| stddev|   null|13.338251788617113|  null|     null|       null|   null|   3.1726772356159683|   14.122167498320856|        84.92335325749652|       55.21709697361205|         1.5902230927017802|           2871.604840767319|         2.1556832366318|   1.4460030819356924|          552.5020671416656|       null|\n|    min| U00001|                15|Female|Ahmedabad|      Apple|Android|                  1.0|                  1.0|                      5.0|                      10|                        0.5|                         100|                     0.5|                  0.0|                        100|  Education|\n|    max| U17686|                60| Other|     Pune|     Xiaomi|    iOS|                 12.0|                 50.0|                    300.0|                     200|                        6.0|                       10000|                     8.0|                  5.0|                       2000|       Work|\n+-------+-------+------------------+------+---------+-----------+-------+---------------------+---------------------+-------------------------+------------------------+---------------------------+----------------------------+------------------------+---------------------+---------------------------+-----------+\n\n"
     ]
    }
   ],
   "source": [
    "data.describe().show()"
   ]
  },
  {
   "cell_type": "code",
   "execution_count": 0,
   "metadata": {
    "application/vnd.databricks.v1+cell": {
     "cellMetadata": {
      "byteLimit": 2048000,
      "rowLimit": 10000
     },
     "inputWidgets": {},
     "nuid": "df1962a2-9ca5-4def-a3ac-0b09932d5dad",
     "showTitle": false,
     "tableResultSettingsMap": {},
     "title": ""
    }
   },
   "outputs": [
    {
     "output_type": "stream",
     "name": "stdout",
     "output_type": "stream",
     "text": [
      "+---+---------------------------+\n|Age|Monthly Recharge Cost (INR)|\n+---+---------------------------+\n| 53|                        803|\n| 60|                       1526|\n| 37|                       1619|\n| 32|                       1560|\n| 16|                        742|\n| 21|                       1749|\n| 57|                       1073|\n| 56|                       1136|\n| 46|                       1253|\n| 44|                        168|\n| 55|                       1098|\n| 41|                        151|\n| 53|                        240|\n| 35|                        972|\n| 33|                       1046|\n| 52|                       1769|\n| 46|                       1679|\n| 54|                       1360|\n| 50|                       1639|\n| 40|                       1224|\n+---+---------------------------+\nonly showing top 20 rows\n\n"
     ]
    }
   ],
   "source": [
    "data.select('Age','Monthly Recharge Cost (INR)').show()"
   ]
  },
  {
   "cell_type": "code",
   "execution_count": 0,
   "metadata": {
    "application/vnd.databricks.v1+cell": {
     "cellMetadata": {
      "byteLimit": 2048000,
      "rowLimit": 10000
     },
     "inputWidgets": {},
     "nuid": "86605958-0f66-4efd-bb92-6c1a5901fb37",
     "showTitle": false,
     "tableResultSettingsMap": {},
     "title": ""
    }
   },
   "outputs": [
    {
     "output_type": "stream",
     "name": "stdout",
     "output_type": "stream",
     "text": [
      "+-------+------------------+---------------------------+\n|summary|               Age|Monthly Recharge Cost (INR)|\n+-------+------------------+---------------------------+\n|  count|             17686|                      17686|\n|   mean| 37.58424742734366|         1042.7853669569151|\n| stddev|13.338251788617113|          552.5020671416656|\n|    min|                15|                        100|\n|    max|                60|                       2000|\n+-------+------------------+---------------------------+\n\n"
     ]
    }
   ],
   "source": [
    "data.select('Age','Monthly Recharge Cost (INR)').describe().show()"
   ]
  },
  {
   "cell_type": "code",
   "execution_count": 0,
   "metadata": {
    "application/vnd.databricks.v1+cell": {
     "cellMetadata": {
      "byteLimit": 2048000,
      "rowLimit": 10000
     },
     "inputWidgets": {},
     "nuid": "e0ad783c-bc3c-4702-9e3f-dc8b7f8e972e",
     "showTitle": false,
     "tableResultSettingsMap": {},
     "title": ""
    }
   },
   "outputs": [
    {
     "output_type": "stream",
     "name": "stdout",
     "output_type": "stream",
     "text": [
      "+-------+---+------+---------+------------+-------+---------------------+---------------------+-------------------------+------------------------+---------------------------+----------------------------+------------------------+---------------------+---------------------------+-------------+\n|User ID|Age|Gender| Location| Phone Brand|     OS|Screen Time (hrs/day)|Data Usage (GB/month)|Calls Duration (mins/day)|Number of Apps Installed|Social Media Time (hrs/day)|E-commerce Spend (INR/month)|Streaming Time (hrs/day)|Gaming Time (hrs/day)|Monthly Recharge Cost (INR)|  Primary Use|\n+-------+---+------+---------+------------+-------+---------------------+---------------------+-------------------------+------------------------+---------------------------+----------------------------+------------------------+---------------------+---------------------------+-------------+\n| U00001| 53|  Male|   Mumbai|        Vivo|Android|                  3.7|                 23.9|                     37.9|                     104|                        3.9|                         469|                     5.2|                  4.1|                        803|    Education|\n| U00002| 60| Other|    Delhi|      Realme|    iOS|                  9.2|                 28.1|                     13.7|                     169|                        2.8|                        4997|                     5.1|                  0.4|                       1526|       Gaming|\n| U00003| 37|Female|Ahmedabad|       Nokia|Android|                  4.5|                 12.3|                     66.8|                      96|                        3.0|                        2381|                     1.7|                  2.9|                       1619|Entertainment|\n| U00004| 32|  Male|     Pune|     Samsung|Android|                 11.0|                 25.6|                    156.2|                     146|                        5.2|                        1185|                     3.2|                  0.3|                       1560|Entertainment|\n| U00007| 57|Female|  Lucknow|       Apple|    iOS|                  6.0|                 35.2|                    154.5|                     123|                        0.8|                        2653|                     2.9|                  2.3|                       1073| Social Media|\n| U00008| 56| Other|  Kolkata|      Realme|    iOS|                  3.1|                 43.5|                    125.3|                     188|                        2.3|                        9767|                     5.2|                  5.0|                       1136|Entertainment|\n| U00009| 46|Female|  Kolkata|        Oppo|Android|                  5.3|                 46.4|                     21.3|                     194|                        3.7|                        2870|                     6.1|                  2.8|                       1253|Entertainment|\n| U00010| 44| Other|  Kolkata|       Apple|    iOS|                  9.9|                 10.6|                    180.2|                      84|                        4.8|                        9193|                     7.6|                  0.4|                        168|    Education|\n| U00011| 55| Other|  Lucknow|       Nokia|Android|                  1.6|                 23.7|                    192.0|                      27|                        3.1|                        9330|                     1.2|                  2.3|                       1098|         Work|\n| U00012| 41|Female|    Delhi|        Oppo|Android|                  7.5|                 23.5|                     84.9|                     187|                        0.9|                         643|                     3.5|                  2.7|                        151| Social Media|\n| U00013| 53|  Male|Bangalore|      Realme|    iOS|                 10.5|                  1.4|                     33.7|                     137|                        4.5|                        7854|                     7.2|                  1.4|                        240|    Education|\n| U00014| 35|  Male|   Jaipur|      Realme|Android|                 10.3|                 32.4|                    247.1|                     124|                        5.2|                        3347|                     3.8|                  4.5|                        972| Social Media|\n| U00015| 33|Female|   Jaipur|     Samsung|    iOS|                  1.7|                 33.2|                    208.8|                     121|                        3.0|                        3185|                     4.2|                  0.5|                       1046|Entertainment|\n| U00016| 52|  Male|Bangalore|Google Pixel|Android|                  5.1|                 28.5|                    169.2|                     161|                        4.6|                        6175|                     4.4|                  4.3|                       1769|         Work|\n| U00017| 46| Other|   Mumbai|       Apple|Android|                  3.1|                 23.6|                    153.9|                     183|                        2.5|                        6242|                     6.2|                  0.4|                       1679|    Education|\n| U00018| 54|  Male|  Kolkata|       Apple|Android|                 11.6|                 12.6|                    210.4|                      62|                        4.9|                        4642|                     0.9|                  4.1|                       1360|Entertainment|\n| U00019| 50|Female|  Chennai|Google Pixel|Android|                  5.3|                  5.2|                    235.6|                     188|                        4.6|                        1120|                     1.0|                  0.8|                       1639|         Work|\n| U00020| 40| Other|Hyderabad|    Motorola|    iOS|                  9.0|                 38.9|                    289.6|                      62|                        2.4|                        8012|                     7.7|                  2.0|                       1224|         Work|\n| U00021| 60|  Male|     Pune|     Samsung|    iOS|                 10.4|                 46.0|                     38.0|                     110|                        3.0|                         511|                     6.8|                  1.3|                        311| Social Media|\n| U00022| 59| Other|     Pune|      Xiaomi|Android|                 11.7|                  9.1|                    203.9|                     101|                        5.8|                        2579|                     2.6|                  4.1|                        446|       Gaming|\n+-------+---+------+---------+------------+-------+---------------------+---------------------+-------------------------+------------------------+---------------------------+----------------------------+------------------------+---------------------+---------------------------+-------------+\nonly showing top 20 rows\n\n"
     ]
    }
   ],
   "source": [
    "data.filter(col('Age')>30).show()"
   ]
  },
  {
   "cell_type": "code",
   "execution_count": 0,
   "metadata": {
    "application/vnd.databricks.v1+cell": {
     "cellMetadata": {
      "byteLimit": 2048000,
      "rowLimit": 10000
     },
     "inputWidgets": {},
     "nuid": "992e9da1-70ea-444c-8040-e6756ee9c0f4",
     "showTitle": false,
     "tableResultSettingsMap": {},
     "title": ""
    }
   },
   "outputs": [
    {
     "output_type": "stream",
     "name": "stdout",
     "output_type": "stream",
     "text": [
      "+---+---------------------------+---------------------+---------------------------+\n|Age|Monthly Recharge Cost (INR)|Screen Time (hrs/day)|Social Media Time (hrs/day)|\n+---+---------------------------+---------------------+---------------------------+\n| 53|                        803|                  3.7|                        3.9|\n| 60|                       1526|                  9.2|                        2.8|\n| 37|                       1619|                  4.5|                        3.0|\n| 32|                       1560|                 11.0|                        5.2|\n| 57|                       1073|                  6.0|                        0.8|\n| 56|                       1136|                  3.1|                        2.3|\n| 46|                       1253|                  5.3|                        3.7|\n| 44|                        168|                  9.9|                        4.8|\n| 55|                       1098|                  1.6|                        3.1|\n| 41|                        151|                  7.5|                        0.9|\n| 53|                        240|                 10.5|                        4.5|\n| 35|                        972|                 10.3|                        5.2|\n| 33|                       1046|                  1.7|                        3.0|\n| 52|                       1769|                  5.1|                        4.6|\n| 46|                       1679|                  3.1|                        2.5|\n| 54|                       1360|                 11.6|                        4.9|\n| 50|                       1639|                  5.3|                        4.6|\n| 40|                       1224|                  9.0|                        2.4|\n| 60|                        311|                 10.4|                        3.0|\n| 59|                        446|                 11.7|                        5.8|\n+---+---------------------------+---------------------+---------------------------+\nonly showing top 20 rows\n\n"
     ]
    }
   ],
   "source": [
    "data.filter(col('Age')>30).select('Age','Monthly Recharge Cost (INR)','Screen Time (hrs/day)','Social Media Time (hrs/day)').show()"
   ]
  },
  {
   "cell_type": "code",
   "execution_count": 0,
   "metadata": {
    "application/vnd.databricks.v1+cell": {
     "cellMetadata": {
      "byteLimit": 2048000,
      "rowLimit": 10000
     },
     "inputWidgets": {},
     "nuid": "9ee8b684-81a6-4595-ae26-0dd128fc5cf6",
     "showTitle": false,
     "tableResultSettingsMap": {},
     "title": ""
    }
   },
   "outputs": [
    {
     "output_type": "stream",
     "name": "stdout",
     "output_type": "stream",
     "text": [
      "+-------+-----------------+---------------------------+---------------------+---------------------------+\n|summary|              Age|Monthly Recharge Cost (INR)|Screen Time (hrs/day)|Social Media Time (hrs/day)|\n+-------+-----------------+---------------------------+---------------------+---------------------------+\n|  count|            11544|                      11544|                11544|                      11544|\n|   mean|45.63097713097713|         1041.9406618156618|    6.536884961884948|         3.2468988218988026|\n| stddev|8.649197960742587|          552.5857787834783|    3.181051692632047|          1.588687728742276|\n|    min|               31|                        100|                  1.0|                        0.5|\n|    max|               60|                       2000|                 12.0|                        6.0|\n+-------+-----------------+---------------------------+---------------------+---------------------------+\n\n"
     ]
    }
   ],
   "source": [
    "data.filter(col('Age')>30).select('Age','Monthly Recharge Cost (INR)','Screen Time (hrs/day)','Social Media Time (hrs/day)').describe().show()"
   ]
  },
  {
   "cell_type": "code",
   "execution_count": 0,
   "metadata": {
    "application/vnd.databricks.v1+cell": {
     "cellMetadata": {
      "byteLimit": 2048000,
      "rowLimit": 10000
     },
     "inputWidgets": {},
     "nuid": "03c4eaa0-6959-4d36-9f05-9071dd4e5512",
     "showTitle": false,
     "tableResultSettingsMap": {},
     "title": ""
    }
   },
   "outputs": [],
   "source": [
    "data.createOrReplaceTempView('phone_use')"
   ]
  },
  {
   "cell_type": "code",
   "execution_count": 0,
   "metadata": {
    "application/vnd.databricks.v1+cell": {
     "cellMetadata": {
      "byteLimit": 2048000,
      "rowLimit": 10000
     },
     "inputWidgets": {},
     "nuid": "2c79b5d8-5d04-41be-b0e4-ea61c860cbf7",
     "showTitle": false,
     "tableResultSettingsMap": {},
     "title": ""
    }
   },
   "outputs": [
    {
     "output_type": "stream",
     "name": "stdout",
     "output_type": "stream",
     "text": [
      "+-------+---+------+---------+------------+-------+---------------------+---------------------+-------------------------+------------------------+---------------------------+----------------------------+------------------------+---------------------+---------------------------+-------------+\n|User ID|Age|Gender| Location| Phone Brand|     OS|Screen Time (hrs/day)|Data Usage (GB/month)|Calls Duration (mins/day)|Number of Apps Installed|Social Media Time (hrs/day)|E-commerce Spend (INR/month)|Streaming Time (hrs/day)|Gaming Time (hrs/day)|Monthly Recharge Cost (INR)|  Primary Use|\n+-------+---+------+---------+------------+-------+---------------------+---------------------+-------------------------+------------------------+---------------------------+----------------------------+------------------------+---------------------+---------------------------+-------------+\n| U00001| 53|  Male|   Mumbai|        Vivo|Android|                  3.7|                 23.9|                     37.9|                     104|                        3.9|                         469|                     5.2|                  4.1|                        803|    Education|\n| U00002| 60| Other|    Delhi|      Realme|    iOS|                  9.2|                 28.1|                     13.7|                     169|                        2.8|                        4997|                     5.1|                  0.4|                       1526|       Gaming|\n| U00003| 37|Female|Ahmedabad|       Nokia|Android|                  4.5|                 12.3|                     66.8|                      96|                        3.0|                        2381|                     1.7|                  2.9|                       1619|Entertainment|\n| U00004| 32|  Male|     Pune|     Samsung|Android|                 11.0|                 25.6|                    156.2|                     146|                        5.2|                        1185|                     3.2|                  0.3|                       1560|Entertainment|\n| U00005| 16|  Male|   Mumbai|      Xiaomi|    iOS|                  2.2|                  2.5|                    236.2|                      86|                        5.5|                         106|                     3.4|                  2.3|                        742| Social Media|\n| U00006| 21|  Male|   Jaipur|        Oppo|    iOS|                  5.4|                 10.6|                    210.6|                      25|                        4.2|                        6285|                     0.6|                  4.8|                       1749|Entertainment|\n| U00007| 57|Female|  Lucknow|       Apple|    iOS|                  6.0|                 35.2|                    154.5|                     123|                        0.8|                        2653|                     2.9|                  2.3|                       1073| Social Media|\n| U00008| 56| Other|  Kolkata|      Realme|    iOS|                  3.1|                 43.5|                    125.3|                     188|                        2.3|                        9767|                     5.2|                  5.0|                       1136|Entertainment|\n| U00009| 46|Female|  Kolkata|        Oppo|Android|                  5.3|                 46.4|                     21.3|                     194|                        3.7|                        2870|                     6.1|                  2.8|                       1253|Entertainment|\n| U00010| 44| Other|  Kolkata|       Apple|    iOS|                  9.9|                 10.6|                    180.2|                      84|                        4.8|                        9193|                     7.6|                  0.4|                        168|    Education|\n| U00011| 55| Other|  Lucknow|       Nokia|Android|                  1.6|                 23.7|                    192.0|                      27|                        3.1|                        9330|                     1.2|                  2.3|                       1098|         Work|\n| U00012| 41|Female|    Delhi|        Oppo|Android|                  7.5|                 23.5|                     84.9|                     187|                        0.9|                         643|                     3.5|                  2.7|                        151| Social Media|\n| U00013| 53|  Male|Bangalore|      Realme|    iOS|                 10.5|                  1.4|                     33.7|                     137|                        4.5|                        7854|                     7.2|                  1.4|                        240|    Education|\n| U00014| 35|  Male|   Jaipur|      Realme|Android|                 10.3|                 32.4|                    247.1|                     124|                        5.2|                        3347|                     3.8|                  4.5|                        972| Social Media|\n| U00015| 33|Female|   Jaipur|     Samsung|    iOS|                  1.7|                 33.2|                    208.8|                     121|                        3.0|                        3185|                     4.2|                  0.5|                       1046|Entertainment|\n| U00016| 52|  Male|Bangalore|Google Pixel|Android|                  5.1|                 28.5|                    169.2|                     161|                        4.6|                        6175|                     4.4|                  4.3|                       1769|         Work|\n| U00017| 46| Other|   Mumbai|       Apple|Android|                  3.1|                 23.6|                    153.9|                     183|                        2.5|                        6242|                     6.2|                  0.4|                       1679|    Education|\n| U00018| 54|  Male|  Kolkata|       Apple|Android|                 11.6|                 12.6|                    210.4|                      62|                        4.9|                        4642|                     0.9|                  4.1|                       1360|Entertainment|\n| U00019| 50|Female|  Chennai|Google Pixel|Android|                  5.3|                  5.2|                    235.6|                     188|                        4.6|                        1120|                     1.0|                  0.8|                       1639|         Work|\n| U00020| 40| Other|Hyderabad|    Motorola|    iOS|                  9.0|                 38.9|                    289.6|                      62|                        2.4|                        8012|                     7.7|                  2.0|                       1224|         Work|\n+-------+---+------+---------+------------+-------+---------------------+---------------------+-------------------------+------------------------+---------------------------+----------------------------+------------------------+---------------------+---------------------------+-------------+\nonly showing top 20 rows\n\n"
     ]
    }
   ],
   "source": [
    "spark.sql('select * from phone_use').show()"
   ]
  },
  {
   "cell_type": "code",
   "execution_count": 0,
   "metadata": {
    "application/vnd.databricks.v1+cell": {
     "cellMetadata": {
      "byteLimit": 2048000,
      "rowLimit": 10000
     },
     "inputWidgets": {},
     "nuid": "6b23b973-da53-4168-bc30-3491125a47d1",
     "showTitle": false,
     "tableResultSettingsMap": {},
     "title": ""
    }
   },
   "outputs": [
    {
     "output_type": "stream",
     "name": "stdout",
     "output_type": "stream",
     "text": [
      "+---+---------+\n|Age| Location|\n+---+---------+\n| 53|   Mumbai|\n| 60|    Delhi|\n| 37|Ahmedabad|\n| 32|     Pune|\n| 16|   Mumbai|\n| 21|   Jaipur|\n| 57|  Lucknow|\n| 56|  Kolkata|\n| 46|  Kolkata|\n| 44|  Kolkata|\n| 55|  Lucknow|\n| 41|    Delhi|\n| 53|Bangalore|\n| 35|   Jaipur|\n| 33|   Jaipur|\n| 52|Bangalore|\n| 46|   Mumbai|\n| 54|  Kolkata|\n| 50|  Chennai|\n| 40|Hyderabad|\n+---+---------+\nonly showing top 20 rows\n\n"
     ]
    }
   ],
   "source": [
    "spark.sql('select Age,Location from phone_use').show()"
   ]
  },
  {
   "cell_type": "code",
   "execution_count": 0,
   "metadata": {
    "application/vnd.databricks.v1+cell": {
     "cellMetadata": {
      "byteLimit": 2048000,
      "rowLimit": 10000
     },
     "inputWidgets": {},
     "nuid": "1f15571e-0bc8-4f1d-85de-3d40741c9159",
     "showTitle": false,
     "tableResultSettingsMap": {},
     "title": ""
    }
   },
   "outputs": [
    {
     "output_type": "stream",
     "name": "stdout",
     "output_type": "stream",
     "text": [
      "+---+---------+\n|Age| Location|\n+---+---------+\n| 53|   Mumbai|\n| 60|    Delhi|\n| 37|Ahmedabad|\n| 32|     Pune|\n| 57|  Lucknow|\n| 56|  Kolkata|\n| 46|  Kolkata|\n| 44|  Kolkata|\n| 55|  Lucknow|\n| 41|    Delhi|\n| 53|Bangalore|\n| 35|   Jaipur|\n| 33|   Jaipur|\n| 52|Bangalore|\n| 46|   Mumbai|\n| 54|  Kolkata|\n| 50|  Chennai|\n| 40|Hyderabad|\n| 60|     Pune|\n| 59|     Pune|\n+---+---------+\nonly showing top 20 rows\n\n"
     ]
    }
   ],
   "source": [
    "spark.sql('select Age,Location from phone_use where Age>30').show()"
   ]
  },
  {
   "cell_type": "code",
   "execution_count": 0,
   "metadata": {
    "application/vnd.databricks.v1+cell": {
     "cellMetadata": {
      "byteLimit": 2048000,
      "rowLimit": 10000
     },
     "inputWidgets": {},
     "nuid": "9ec0d6dc-fe14-405b-88a8-f62ffe8da008",
     "showTitle": false,
     "tableResultSettingsMap": {},
     "title": ""
    }
   },
   "outputs": [],
   "source": [
    "data=data.withColumn('Screen Time in min',data['Screen Time (hrs/day)']*60)"
   ]
  },
  {
   "cell_type": "code",
   "execution_count": 0,
   "metadata": {
    "application/vnd.databricks.v1+cell": {
     "cellMetadata": {
      "byteLimit": 2048000,
      "rowLimit": 10000
     },
     "inputWidgets": {},
     "nuid": "51bbc38a-e2fb-4a00-aad2-e383f62f6328",
     "showTitle": false,
     "tableResultSettingsMap": {},
     "title": ""
    }
   },
   "outputs": [
    {
     "output_type": "stream",
     "name": "stdout",
     "output_type": "stream",
     "text": [
      "Out[56]: ['User ID',\n 'Age',\n 'Gender',\n 'Location',\n 'Phone Brand',\n 'OS',\n 'Screen Time (hrs/day)',\n 'Data Usage (GB/month)',\n 'Calls Duration (mins/day)',\n 'Number of Apps Installed',\n 'Social Media Time (hrs/day)',\n 'E-commerce Spend (INR/month)',\n 'Streaming Time (hrs/day)',\n 'Gaming Time (hrs/day)',\n 'Monthly Recharge Cost (INR)',\n 'Primary Use',\n 'Screen Time in min']"
     ]
    }
   ],
   "source": [
    "data.columns"
   ]
  },
  {
   "cell_type": "code",
   "execution_count": 0,
   "metadata": {
    "application/vnd.databricks.v1+cell": {
     "cellMetadata": {
      "byteLimit": 2048000,
      "rowLimit": 10000
     },
     "inputWidgets": {},
     "nuid": "fa392636-59c1-45cf-9763-857a0828006c",
     "showTitle": false,
     "tableResultSettingsMap": {},
     "title": ""
    }
   },
   "outputs": [
    {
     "output_type": "stream",
     "name": "stdout",
     "output_type": "stream",
     "text": [
      "+------------------+---------------------+\n|Screen Time in min|Screen Time (hrs/day)|\n+------------------+---------------------+\n|             222.0|                  3.7|\n|             552.0|                  9.2|\n|             270.0|                  4.5|\n|             660.0|                 11.0|\n|             132.0|                  2.2|\n|             324.0|                  5.4|\n|             360.0|                  6.0|\n|             186.0|                  3.1|\n|             318.0|                  5.3|\n|             594.0|                  9.9|\n|              96.0|                  1.6|\n|             450.0|                  7.5|\n|             630.0|                 10.5|\n|             618.0|                 10.3|\n|             102.0|                  1.7|\n|             306.0|                  5.1|\n|             186.0|                  3.1|\n|             696.0|                 11.6|\n|             318.0|                  5.3|\n|             540.0|                  9.0|\n+------------------+---------------------+\nonly showing top 20 rows\n\n"
     ]
    }
   ],
   "source": [
    "data.select('Screen Time in min','Screen Time (hrs/day)').show()"
   ]
  },
  {
   "cell_type": "code",
   "execution_count": 0,
   "metadata": {
    "application/vnd.databricks.v1+cell": {
     "cellMetadata": {
      "byteLimit": 2048000,
      "rowLimit": 10000
     },
     "inputWidgets": {},
     "nuid": "18360f1d-c232-4d0f-a49a-7c05630e33b1",
     "showTitle": false,
     "tableResultSettingsMap": {},
     "title": ""
    }
   },
   "outputs": [
    {
     "output_type": "stream",
     "name": "stdout",
     "output_type": "stream",
     "text": [
      "+-------+---+------+---------+------------+-------+---------------------+----------+-------------------------+------------------------+---------------------------+----------------------------+------------------------+---------------------+---------------------------+-------------+------------------+\n|User ID|Age|Gender| Location| Phone Brand|     OS|Screen Time (hrs/day)|Data Usage|Calls Duration (mins/day)|Number of Apps Installed|Social Media Time (hrs/day)|E-commerce Spend (INR/month)|Streaming Time (hrs/day)|Gaming Time (hrs/day)|Monthly Recharge Cost (INR)|  Primary Use|Screen Time in min|\n+-------+---+------+---------+------------+-------+---------------------+----------+-------------------------+------------------------+---------------------------+----------------------------+------------------------+---------------------+---------------------------+-------------+------------------+\n| U00001| 53|  Male|   Mumbai|        Vivo|Android|                  3.7|      23.9|                     37.9|                     104|                        3.9|                         469|                     5.2|                  4.1|                        803|    Education|             222.0|\n| U00002| 60| Other|    Delhi|      Realme|    iOS|                  9.2|      28.1|                     13.7|                     169|                        2.8|                        4997|                     5.1|                  0.4|                       1526|       Gaming|             552.0|\n| U00003| 37|Female|Ahmedabad|       Nokia|Android|                  4.5|      12.3|                     66.8|                      96|                        3.0|                        2381|                     1.7|                  2.9|                       1619|Entertainment|             270.0|\n| U00004| 32|  Male|     Pune|     Samsung|Android|                 11.0|      25.6|                    156.2|                     146|                        5.2|                        1185|                     3.2|                  0.3|                       1560|Entertainment|             660.0|\n| U00005| 16|  Male|   Mumbai|      Xiaomi|    iOS|                  2.2|       2.5|                    236.2|                      86|                        5.5|                         106|                     3.4|                  2.3|                        742| Social Media|             132.0|\n| U00006| 21|  Male|   Jaipur|        Oppo|    iOS|                  5.4|      10.6|                    210.6|                      25|                        4.2|                        6285|                     0.6|                  4.8|                       1749|Entertainment|             324.0|\n| U00007| 57|Female|  Lucknow|       Apple|    iOS|                  6.0|      35.2|                    154.5|                     123|                        0.8|                        2653|                     2.9|                  2.3|                       1073| Social Media|             360.0|\n| U00008| 56| Other|  Kolkata|      Realme|    iOS|                  3.1|      43.5|                    125.3|                     188|                        2.3|                        9767|                     5.2|                  5.0|                       1136|Entertainment|             186.0|\n| U00009| 46|Female|  Kolkata|        Oppo|Android|                  5.3|      46.4|                     21.3|                     194|                        3.7|                        2870|                     6.1|                  2.8|                       1253|Entertainment|             318.0|\n| U00010| 44| Other|  Kolkata|       Apple|    iOS|                  9.9|      10.6|                    180.2|                      84|                        4.8|                        9193|                     7.6|                  0.4|                        168|    Education|             594.0|\n| U00011| 55| Other|  Lucknow|       Nokia|Android|                  1.6|      23.7|                    192.0|                      27|                        3.1|                        9330|                     1.2|                  2.3|                       1098|         Work|              96.0|\n| U00012| 41|Female|    Delhi|        Oppo|Android|                  7.5|      23.5|                     84.9|                     187|                        0.9|                         643|                     3.5|                  2.7|                        151| Social Media|             450.0|\n| U00013| 53|  Male|Bangalore|      Realme|    iOS|                 10.5|       1.4|                     33.7|                     137|                        4.5|                        7854|                     7.2|                  1.4|                        240|    Education|             630.0|\n| U00014| 35|  Male|   Jaipur|      Realme|Android|                 10.3|      32.4|                    247.1|                     124|                        5.2|                        3347|                     3.8|                  4.5|                        972| Social Media|             618.0|\n| U00015| 33|Female|   Jaipur|     Samsung|    iOS|                  1.7|      33.2|                    208.8|                     121|                        3.0|                        3185|                     4.2|                  0.5|                       1046|Entertainment|             102.0|\n| U00016| 52|  Male|Bangalore|Google Pixel|Android|                  5.1|      28.5|                    169.2|                     161|                        4.6|                        6175|                     4.4|                  4.3|                       1769|         Work|             306.0|\n| U00017| 46| Other|   Mumbai|       Apple|Android|                  3.1|      23.6|                    153.9|                     183|                        2.5|                        6242|                     6.2|                  0.4|                       1679|    Education|             186.0|\n| U00018| 54|  Male|  Kolkata|       Apple|Android|                 11.6|      12.6|                    210.4|                      62|                        4.9|                        4642|                     0.9|                  4.1|                       1360|Entertainment|             696.0|\n| U00019| 50|Female|  Chennai|Google Pixel|Android|                  5.3|       5.2|                    235.6|                     188|                        4.6|                        1120|                     1.0|                  0.8|                       1639|         Work|             318.0|\n| U00020| 40| Other|Hyderabad|    Motorola|    iOS|                  9.0|      38.9|                    289.6|                      62|                        2.4|                        8012|                     7.7|                  2.0|                       1224|         Work|             540.0|\n+-------+---+------+---------+------------+-------+---------------------+----------+-------------------------+------------------------+---------------------------+----------------------------+------------------------+---------------------+---------------------------+-------------+------------------+\nonly showing top 20 rows\n\n"
     ]
    }
   ],
   "source": [
    "data.withColumnRenamed('Data Usage (GB/month)','Data Usage').show()"
   ]
  },
  {
   "cell_type": "code",
   "execution_count": 0,
   "metadata": {
    "application/vnd.databricks.v1+cell": {
     "cellMetadata": {
      "byteLimit": 2048000,
      "rowLimit": 10000
     },
     "inputWidgets": {},
     "nuid": "72089e02-4641-415e-940c-2ff8e3ac1e3c",
     "showTitle": false,
     "tableResultSettingsMap": {},
     "title": ""
    }
   },
   "outputs": [
    {
     "output_type": "stream",
     "name": "stdout",
     "output_type": "stream",
     "text": [
      "+---+------+---------+---------------------+\n|Age|Gender| Location|Data Usage (GB/month)|\n+---+------+---------+---------------------+\n| 15| Other|Hyderabad|                 16.6|\n| 15| Other|  Chennai|                 11.2|\n| 15|Female|Bangalore|                 31.2|\n| 15| Other|   Mumbai|                 39.3|\n| 15| Other|    Delhi|                 34.9|\n| 15| Other|   Jaipur|                 13.9|\n| 15|Female|     Pune|                 21.0|\n| 15| Other|  Kolkata|                 34.1|\n| 15| Other|   Mumbai|                 38.2|\n| 15|  Male|  Lucknow|                 38.8|\n| 15|  Male|     Pune|                 43.1|\n| 15| Other|    Delhi|                 37.8|\n| 15| Other|   Mumbai|                 17.3|\n| 15|Female|Hyderabad|                 45.9|\n| 15| Other|   Jaipur|                  4.0|\n| 15|  Male|    Delhi|                 42.7|\n| 15| Other|Hyderabad|                 25.7|\n| 15| Other|  Kolkata|                 20.4|\n| 15|Female|  Chennai|                 48.5|\n| 15|  Male|    Delhi|                 14.9|\n+---+------+---------+---------------------+\nonly showing top 20 rows\n\n"
     ]
    }
   ],
   "source": [
    "data.orderBy('Age',ascending=True).select('Age','Gender','Location','Data Usage (GB/month)').show()"
   ]
  },
  {
   "cell_type": "code",
   "execution_count": 0,
   "metadata": {
    "application/vnd.databricks.v1+cell": {
     "cellMetadata": {
      "byteLimit": 2048000,
      "rowLimit": 10000
     },
     "inputWidgets": {},
     "nuid": "7cb24b23-9876-4bd7-a61c-d33bf3106841",
     "showTitle": false,
     "tableResultSettingsMap": {},
     "title": ""
    }
   },
   "outputs": [
    {
     "output_type": "stream",
     "name": "stdout",
     "output_type": "stream",
     "text": [
      "+-------+---+------+-----------+-------+---------------------+---------------------+-------------------------+------------------------+---------------------------+----------------------------+------------------------+---------------------+---------------------------+-------------+------------------+\n|User ID|Age|Gender|Phone Brand|     OS|Screen Time (hrs/day)|Data Usage (GB/month)|Calls Duration (mins/day)|Number of Apps Installed|Social Media Time (hrs/day)|E-commerce Spend (INR/month)|Streaming Time (hrs/day)|Gaming Time (hrs/day)|Monthly Recharge Cost (INR)|  Primary Use|Screen Time in min|\n+-------+---+------+-----------+-------+---------------------+---------------------+-------------------------+------------------------+---------------------------+----------------------------+------------------------+---------------------+---------------------------+-------------+------------------+\n| U00001| 53|  Male|       Vivo|Android|                  3.7|                 23.9|                     37.9|                     104|                        3.9|                         469|                     5.2|                  4.1|                        803|    Education|             222.0|\n| U00002| 60| Other|     Realme|    iOS|                  9.2|                 28.1|                     13.7|                     169|                        2.8|                        4997|                     5.1|                  0.4|                       1526|       Gaming|             552.0|\n| U00003| 37|Female|      Nokia|Android|                  4.5|                 12.3|                     66.8|                      96|                        3.0|                        2381|                     1.7|                  2.9|                       1619|Entertainment|             270.0|\n| U00004| 32|  Male|    Samsung|Android|                 11.0|                 25.6|                    156.2|                     146|                        5.2|                        1185|                     3.2|                  0.3|                       1560|Entertainment|             660.0|\n+-------+---+------+-----------+-------+---------------------+---------------------+-------------------------+------------------------+---------------------------+----------------------------+------------------------+---------------------+---------------------------+-------------+------------------+\nonly showing top 4 rows\n\n"
     ]
    }
   ],
   "source": [
    "data.drop('Location').show(4)"
   ]
  },
  {
   "cell_type": "code",
   "execution_count": 0,
   "metadata": {
    "application/vnd.databricks.v1+cell": {
     "cellMetadata": {
      "byteLimit": 2048000,
      "rowLimit": 10000
     },
     "inputWidgets": {},
     "nuid": "6a5847f8-20e1-473f-910d-985d2675f82e",
     "showTitle": false,
     "tableResultSettingsMap": {},
     "title": ""
    }
   },
   "outputs": [
    {
     "output_type": "stream",
     "name": "stdout",
     "output_type": "stream",
     "text": [
      "+-----------------------------+\n|sum(Streaming Time (hrs/day))|\n+-----------------------------+\n|            75176.40000000007|\n+-----------------------------+\n\n"
     ]
    }
   ],
   "source": [
    "data.agg({'Streaming Time (hrs/day)':'sum'}).show()"
   ]
  },
  {
   "cell_type": "code",
   "execution_count": 0,
   "metadata": {
    "application/vnd.databricks.v1+cell": {
     "cellMetadata": {
      "byteLimit": 2048000,
      "rowLimit": 10000
     },
     "inputWidgets": {},
     "nuid": "49393831-5948-4a33-b2f9-d673666f00fe",
     "showTitle": false,
     "tableResultSettingsMap": {},
     "title": ""
    }
   },
   "outputs": [
    {
     "output_type": "stream",
     "name": "stdout",
     "output_type": "stream",
     "text": [
      "+------------+--------------------------+\n| Phone Brand|avg(Screen Time (hrs/day))|\n+------------+--------------------------+\n|       Nokia|         6.613436123348007|\n|    Motorola|         6.557018054746651|\n|      Realme|         6.635754824063566|\n|      Xiaomi|         6.641874653355516|\n|        Oppo|         6.392948717948725|\n|     Samsung|         6.600963718820852|\n|     OnePlus|         6.545213060320976|\n|        Vivo|         6.511407902058977|\n|       Apple|         6.523042253521117|\n|Google Pixel|         6.432793522267206|\n+------------+--------------------------+\n\n"
     ]
    }
   ],
   "source": [
    "data.groupby('Phone Brand').avg('Screen Time (hrs/day)').show()"
   ]
  },
  {
   "cell_type": "code",
   "execution_count": 0,
   "metadata": {
    "application/vnd.databricks.v1+cell": {
     "cellMetadata": {
      "byteLimit": 2048000,
      "rowLimit": 10000
     },
     "inputWidgets": {},
     "nuid": "a11a06fd-a846-4478-b447-29b83cbd1cb4",
     "showTitle": false,
     "tableResultSettingsMap": {},
     "title": ""
    }
   },
   "outputs": [
    {
     "output_type": "stream",
     "name": "stdout",
     "output_type": "stream",
     "text": [
      "+------------+--------------------------+\n| Phone Brand|max(Screen Time (hrs/day))|\n+------------+--------------------------+\n|       Nokia|                      12.0|\n|    Motorola|                      12.0|\n|      Realme|                      12.0|\n|      Xiaomi|                      12.0|\n|        Oppo|                      12.0|\n|     Samsung|                      12.0|\n|     OnePlus|                      12.0|\n|        Vivo|                      12.0|\n|       Apple|                      12.0|\n|Google Pixel|                      12.0|\n+------------+--------------------------+\n\n"
     ]
    }
   ],
   "source": [
    "data.groupby('Phone Brand').max('Screen Time (hrs/day)').show()"
   ]
  },
  {
   "cell_type": "code",
   "execution_count": 0,
   "metadata": {
    "application/vnd.databricks.v1+cell": {
     "cellMetadata": {
      "byteLimit": 2048000,
      "rowLimit": 10000
     },
     "inputWidgets": {},
     "nuid": "5ce75fb9-d621-4030-8736-e8388023fa5a",
     "showTitle": false,
     "tableResultSettingsMap": {},
     "title": ""
    }
   },
   "outputs": [
    {
     "output_type": "stream",
     "name": "stdout",
     "output_type": "stream",
     "text": [
      "+------+-----+\n|Gender|count|\n+------+-----+\n|Female| 5969|\n| Other| 5892|\n|  Male| 5825|\n+------+-----+\n\n"
     ]
    }
   ],
   "source": [
    "data.groupby('Gender').count().show()"
   ]
  },
  {
   "cell_type": "code",
   "execution_count": 0,
   "metadata": {
    "application/vnd.databricks.v1+cell": {
     "cellMetadata": {
      "byteLimit": 2048000,
      "rowLimit": 10000
     },
     "inputWidgets": {},
     "nuid": "bdd64063-6f3f-41b4-bdeb-b2a4bc9a63b9",
     "showTitle": false,
     "tableResultSettingsMap": {},
     "title": ""
    }
   },
   "outputs": [
    {
     "output_type": "stream",
     "name": "stdout",
     "output_type": "stream",
     "text": [
      "+------+--------------------------+\n|Gender|avg(Data Usage (GB/month))|\n+------+--------------------------+\n|Female|        25.447026302563238|\n| Other|         25.43238289205704|\n|  Male|        25.353236051502158|\n+------+--------------------------+\n\n"
     ]
    }
   ],
   "source": [
    "data.groupby('Gender').agg({'Data Usage (GB/month)':'avg'}).show()"
   ]
  },
  {
   "cell_type": "code",
   "execution_count": 0,
   "metadata": {
    "application/vnd.databricks.v1+cell": {
     "cellMetadata": {
      "byteLimit": 2048000,
      "rowLimit": 10000
     },
     "inputWidgets": {},
     "nuid": "5e5f80d0-9656-4fea-8dc7-5d7a1d2d5fed",
     "showTitle": false,
     "tableResultSettingsMap": {},
     "title": ""
    }
   },
   "outputs": [
    {
     "output_type": "stream",
     "name": "stdout",
     "output_type": "stream",
     "text": [
      "+------+--------------------------+\n|Gender|avg(Data Usage (GB/month))|\n+------+--------------------------+\n|Female|        25.447026302563238|\n| Other|         25.43238289205704|\n+------+--------------------------+\n\n"
     ]
    }
   ],
   "source": [
    "data.groupby('Gender').agg({'Data Usage (GB/month)':'avg'}).filter(col('avg(Data Usage (GB/month))')>25.36).show()"
   ]
  },
  {
   "cell_type": "code",
   "execution_count": 0,
   "metadata": {
    "application/vnd.databricks.v1+cell": {
     "cellMetadata": {
      "byteLimit": 2048000,
      "rowLimit": 10000
     },
     "inputWidgets": {},
     "nuid": "9ccefb93-9fe3-4b6f-8b94-2aaa5c741e4f",
     "showTitle": false,
     "tableResultSettingsMap": {},
     "title": ""
    }
   },
   "outputs": [
    {
     "output_type": "stream",
     "name": "stdout",
     "output_type": "stream",
     "text": [
      "+-------+-----+\n|     OS|count|\n+-------+-----+\n|    iOS| 8835|\n|Android| 8851|\n+-------+-----+\n\n"
     ]
    }
   ],
   "source": [
    "data.groupby('OS').count().show()"
   ]
  },
  {
   "cell_type": "code",
   "execution_count": 0,
   "metadata": {
    "application/vnd.databricks.v1+cell": {
     "cellMetadata": {
      "byteLimit": 2048000,
      "rowLimit": 10000
     },
     "inputWidgets": {},
     "nuid": "32d26537-95f8-484d-9493-17dd3695f7e6",
     "showTitle": false,
     "tableResultSettingsMap": {},
     "title": ""
    }
   },
   "outputs": [
    {
     "output_type": "stream",
     "name": "stdout",
     "output_type": "stream",
     "text": [
      "+-------+--------------------------+\n|     OS|avg(Screen Time (hrs/day))|\n+-------+--------------------------+\n|    iOS|         6.532178834182248|\n|Android|        6.5605468308665875|\n+-------+--------------------------+\n\n"
     ]
    }
   ],
   "source": [
    "data.groupby('OS').agg({'Screen Time (hrs/day)':'sum','Screen Time (hrs/day)':'avg'}).show()"
   ]
  },
  {
   "cell_type": "code",
   "execution_count": 0,
   "metadata": {
    "application/vnd.databricks.v1+cell": {
     "cellMetadata": {
      "byteLimit": 2048000,
      "rowLimit": 10000
     },
     "inputWidgets": {},
     "nuid": "7ae2f6d8-2715-46dc-b4bb-0b5c1d617fe3",
     "showTitle": false,
     "tableResultSettingsMap": {},
     "title": ""
    }
   },
   "outputs": [
    {
     "output_type": "stream",
     "name": "stdout",
     "output_type": "stream",
     "text": [
      "+-------+--------------------------+--------------------------+\n|     OS|sum(Screen Time (hrs/day))|avg(Data Usage (GB/month))|\n+-------+--------------------------+--------------------------+\n|    iOS|        57711.800000000156|        25.262954159592535|\n|Android|         58067.40000000017|         25.55929273528403|\n+-------+--------------------------+--------------------------+\n\n"
     ]
    }
   ],
   "source": [
    "data.groupby('OS').agg({'Screen Time (hrs/day)':'sum','Data Usage (GB/month)':'avg'}).show()"
   ]
  },
  {
   "cell_type": "code",
   "execution_count": 0,
   "metadata": {
    "application/vnd.databricks.v1+cell": {
     "cellMetadata": {
      "byteLimit": 2048000,
      "rowLimit": 10000
     },
     "inputWidgets": {},
     "nuid": "368c7861-1e70-4f24-b51e-d5bcc73fc51f",
     "showTitle": false,
     "tableResultSettingsMap": {},
     "title": ""
    }
   },
   "outputs": [
    {
     "output_type": "stream",
     "name": "stdout",
     "output_type": "stream",
     "text": [
      "+------------------+\n|  stddev_samp(Age)|\n+------------------+\n|13.338251788617113|\n+------------------+\n\n"
     ]
    }
   ],
   "source": [
    "from pyspark.sql.functions import stddev\n",
    "data.select(stddev('Age')).show()"
   ]
  },
  {
   "cell_type": "code",
   "execution_count": 0,
   "metadata": {
    "application/vnd.databricks.v1+cell": {
     "cellMetadata": {
      "byteLimit": 2048000,
      "rowLimit": 10000
     },
     "inputWidgets": {},
     "nuid": "98625e0f-08af-4405-897e-6bf808fda4af",
     "showTitle": false,
     "tableResultSettingsMap": {},
     "title": ""
    }
   },
   "outputs": [
    {
     "output_type": "stream",
     "name": "stdout",
     "output_type": "stream",
     "text": [
      "+------------------+\n|     var_samp(Age)|\n+------------------+\n|177.90896077654762|\n+------------------+\n\n"
     ]
    }
   ],
   "source": [
    "from pyspark.sql.functions import variance\n",
    "data.select(variance('Age')).show()"
   ]
  },
  {
   "cell_type": "code",
   "execution_count": 0,
   "metadata": {
    "application/vnd.databricks.v1+cell": {
     "cellMetadata": {
      "byteLimit": 2048000,
      "rowLimit": 10000
     },
     "inputWidgets": {},
     "nuid": "2765d7bf-1588-4c05-bbcd-b704405c3a50",
     "showTitle": false,
     "tableResultSettingsMap": {},
     "title": ""
    }
   },
   "outputs": [
    {
     "output_type": "stream",
     "name": "stdout",
     "output_type": "stream",
     "text": [
      "+-------+---+------+---------+------------+-------+---------------------+---------------------+-------------------------+------------------------+---------------------------+----------------------------+------------------------+---------------------+---------------------------+-------------+------------------+------------+\n|User ID|Age|Gender| Location| Phone Brand|     OS|Screen Time (hrs/day)|Data Usage (GB/month)|Calls Duration (mins/day)|Number of Apps Installed|Social Media Time (hrs/day)|E-commerce Spend (INR/month)|Streaming Time (hrs/day)|Gaming Time (hrs/day)|Monthly Recharge Cost (INR)|  Primary Use|Screen Time in min|     new col|\n+-------+---+------+---------+------------+-------+---------------------+---------------------+-------------------------+------------------------+---------------------------+----------------------------+------------------------+---------------------+---------------------------+-------------+------------------+------------+\n| U00001| 53|  Male|   Mumbai|        Vivo|Android|                  3.7|                 23.9|                     37.9|                     104|                        3.9|                         469|                     5.2|                  4.1|                        803|    Education|             222.0|  MaleU00001|\n| U00002| 60| Other|    Delhi|      Realme|    iOS|                  9.2|                 28.1|                     13.7|                     169|                        2.8|                        4997|                     5.1|                  0.4|                       1526|       Gaming|             552.0| OtherU00002|\n| U00003| 37|Female|Ahmedabad|       Nokia|Android|                  4.5|                 12.3|                     66.8|                      96|                        3.0|                        2381|                     1.7|                  2.9|                       1619|Entertainment|             270.0|FemaleU00003|\n| U00004| 32|  Male|     Pune|     Samsung|Android|                 11.0|                 25.6|                    156.2|                     146|                        5.2|                        1185|                     3.2|                  0.3|                       1560|Entertainment|             660.0|  MaleU00004|\n| U00005| 16|  Male|   Mumbai|      Xiaomi|    iOS|                  2.2|                  2.5|                    236.2|                      86|                        5.5|                         106|                     3.4|                  2.3|                        742| Social Media|             132.0|  MaleU00005|\n| U00006| 21|  Male|   Jaipur|        Oppo|    iOS|                  5.4|                 10.6|                    210.6|                      25|                        4.2|                        6285|                     0.6|                  4.8|                       1749|Entertainment|             324.0|  MaleU00006|\n| U00007| 57|Female|  Lucknow|       Apple|    iOS|                  6.0|                 35.2|                    154.5|                     123|                        0.8|                        2653|                     2.9|                  2.3|                       1073| Social Media|             360.0|FemaleU00007|\n| U00008| 56| Other|  Kolkata|      Realme|    iOS|                  3.1|                 43.5|                    125.3|                     188|                        2.3|                        9767|                     5.2|                  5.0|                       1136|Entertainment|             186.0| OtherU00008|\n| U00009| 46|Female|  Kolkata|        Oppo|Android|                  5.3|                 46.4|                     21.3|                     194|                        3.7|                        2870|                     6.1|                  2.8|                       1253|Entertainment|             318.0|FemaleU00009|\n| U00010| 44| Other|  Kolkata|       Apple|    iOS|                  9.9|                 10.6|                    180.2|                      84|                        4.8|                        9193|                     7.6|                  0.4|                        168|    Education|             594.0| OtherU00010|\n| U00011| 55| Other|  Lucknow|       Nokia|Android|                  1.6|                 23.7|                    192.0|                      27|                        3.1|                        9330|                     1.2|                  2.3|                       1098|         Work|              96.0| OtherU00011|\n| U00012| 41|Female|    Delhi|        Oppo|Android|                  7.5|                 23.5|                     84.9|                     187|                        0.9|                         643|                     3.5|                  2.7|                        151| Social Media|             450.0|FemaleU00012|\n| U00013| 53|  Male|Bangalore|      Realme|    iOS|                 10.5|                  1.4|                     33.7|                     137|                        4.5|                        7854|                     7.2|                  1.4|                        240|    Education|             630.0|  MaleU00013|\n| U00014| 35|  Male|   Jaipur|      Realme|Android|                 10.3|                 32.4|                    247.1|                     124|                        5.2|                        3347|                     3.8|                  4.5|                        972| Social Media|             618.0|  MaleU00014|\n| U00015| 33|Female|   Jaipur|     Samsung|    iOS|                  1.7|                 33.2|                    208.8|                     121|                        3.0|                        3185|                     4.2|                  0.5|                       1046|Entertainment|             102.0|FemaleU00015|\n| U00016| 52|  Male|Bangalore|Google Pixel|Android|                  5.1|                 28.5|                    169.2|                     161|                        4.6|                        6175|                     4.4|                  4.3|                       1769|         Work|             306.0|  MaleU00016|\n| U00017| 46| Other|   Mumbai|       Apple|Android|                  3.1|                 23.6|                    153.9|                     183|                        2.5|                        6242|                     6.2|                  0.4|                       1679|    Education|             186.0| OtherU00017|\n| U00018| 54|  Male|  Kolkata|       Apple|Android|                 11.6|                 12.6|                    210.4|                      62|                        4.9|                        4642|                     0.9|                  4.1|                       1360|Entertainment|             696.0|  MaleU00018|\n| U00019| 50|Female|  Chennai|Google Pixel|Android|                  5.3|                  5.2|                    235.6|                     188|                        4.6|                        1120|                     1.0|                  0.8|                       1639|         Work|             318.0|FemaleU00019|\n| U00020| 40| Other|Hyderabad|    Motorola|    iOS|                  9.0|                 38.9|                    289.6|                      62|                        2.4|                        8012|                     7.7|                  2.0|                       1224|         Work|             540.0| OtherU00020|\n+-------+---+------+---------+------------+-------+---------------------+---------------------+-------------------------+------------------------+---------------------------+----------------------------+------------------------+---------------------+---------------------------+-------------+------------------+------------+\nonly showing top 20 rows\n\n"
     ]
    }
   ],
   "source": [
    "from pyspark.sql.functions import concat,upper,lower\n",
    "data.withColumn('new col',concat(data['Gender'],data['User ID'])).show()"
   ]
  },
  {
   "cell_type": "code",
   "execution_count": 0,
   "metadata": {
    "application/vnd.databricks.v1+cell": {
     "cellMetadata": {
      "byteLimit": 2048000,
      "rowLimit": 10000
     },
     "inputWidgets": {},
     "nuid": "fc35942f-4cd0-4ca4-9a42-15a37b5551dd",
     "showTitle": false,
     "tableResultSettingsMap": {},
     "title": ""
    }
   },
   "outputs": [
    {
     "output_type": "stream",
     "name": "stdout",
     "output_type": "stream",
     "text": [
      "+------------+------+\n|gender_upper|gender|\n+------------+------+\n|        MALE|  Male|\n|       OTHER| Other|\n|      FEMALE|Female|\n|        MALE|  Male|\n|        MALE|  Male|\n|        MALE|  Male|\n|      FEMALE|Female|\n|       OTHER| Other|\n|      FEMALE|Female|\n|       OTHER| Other|\n|       OTHER| Other|\n|      FEMALE|Female|\n|        MALE|  Male|\n|        MALE|  Male|\n|      FEMALE|Female|\n|        MALE|  Male|\n|       OTHER| Other|\n|        MALE|  Male|\n|      FEMALE|Female|\n|       OTHER| Other|\n+------------+------+\nonly showing top 20 rows\n\n"
     ]
    }
   ],
   "source": [
    "data.withColumn('gender_upper',upper('Gender')).select('gender_upper','gender').show()"
   ]
  },
  {
   "cell_type": "code",
   "execution_count": 0,
   "metadata": {
    "application/vnd.databricks.v1+cell": {
     "cellMetadata": {
      "byteLimit": 2048000,
      "rowLimit": 10000
     },
     "inputWidgets": {},
     "nuid": "7529631b-8bd3-48c6-8e73-752713fdbc53",
     "showTitle": false,
     "tableResultSettingsMap": {},
     "title": ""
    }
   },
   "outputs": [
    {
     "output_type": "stream",
     "name": "stdout",
     "output_type": "stream",
     "text": [
      "+---------+------------+\n| Location|current date|\n+---------+------------+\n|   Mumbai|  2025-04-11|\n|    Delhi|  2025-04-11|\n|Ahmedabad|  2025-04-11|\n|     Pune|  2025-04-11|\n|   Mumbai|  2025-04-11|\n|   Jaipur|  2025-04-11|\n|  Lucknow|  2025-04-11|\n|  Kolkata|  2025-04-11|\n|  Kolkata|  2025-04-11|\n|  Kolkata|  2025-04-11|\n|  Lucknow|  2025-04-11|\n|    Delhi|  2025-04-11|\n|Bangalore|  2025-04-11|\n|   Jaipur|  2025-04-11|\n|   Jaipur|  2025-04-11|\n|Bangalore|  2025-04-11|\n|   Mumbai|  2025-04-11|\n|  Kolkata|  2025-04-11|\n|  Chennai|  2025-04-11|\n|Hyderabad|  2025-04-11|\n+---------+------------+\nonly showing top 20 rows\n\n"
     ]
    }
   ],
   "source": [
    "from pyspark.sql.functions import current_date,date_add,date_sub\n",
    "data.withColumn('current date',current_date()).select('Location','current date').show()"
   ]
  },
  {
   "cell_type": "code",
   "execution_count": 0,
   "metadata": {
    "application/vnd.databricks.v1+cell": {
     "cellMetadata": {},
     "inputWidgets": {},
     "nuid": "f795d27b-4f02-4a23-848a-7539e2074ccd",
     "showTitle": false,
     "tableResultSettingsMap": {},
     "title": ""
    }
   },
   "outputs": [],
   "source": []
  },
  {
   "cell_type": "code",
   "execution_count": 0,
   "metadata": {
    "application/vnd.databricks.v1+cell": {
     "cellMetadata": {},
     "inputWidgets": {},
     "nuid": "c8afd13b-0e69-4859-91f1-c1eec90a9141",
     "showTitle": false,
     "tableResultSettingsMap": {},
     "title": ""
    }
   },
   "outputs": [],
   "source": []
  },
  {
   "cell_type": "code",
   "execution_count": 0,
   "metadata": {
    "application/vnd.databricks.v1+cell": {
     "cellMetadata": {},
     "inputWidgets": {},
     "nuid": "0ca17227-2da2-48e5-a9b8-39ce1914e083",
     "showTitle": false,
     "tableResultSettingsMap": {},
     "title": ""
    }
   },
   "outputs": [],
   "source": []
  },
  {
   "cell_type": "code",
   "execution_count": 0,
   "metadata": {
    "application/vnd.databricks.v1+cell": {
     "cellMetadata": {},
     "inputWidgets": {},
     "nuid": "7d390dd8-0277-44c2-8a83-794b6fed1ffd",
     "showTitle": false,
     "tableResultSettingsMap": {},
     "title": ""
    }
   },
   "outputs": [],
   "source": []
  },
  {
   "cell_type": "code",
   "execution_count": 0,
   "metadata": {
    "application/vnd.databricks.v1+cell": {
     "cellMetadata": {},
     "inputWidgets": {},
     "nuid": "c2573c08-9aef-49e7-98c3-878e7b95c820",
     "showTitle": false,
     "tableResultSettingsMap": {},
     "title": ""
    }
   },
   "outputs": [],
   "source": []
  },
  {
   "cell_type": "code",
   "execution_count": 0,
   "metadata": {
    "application/vnd.databricks.v1+cell": {
     "cellMetadata": {},
     "inputWidgets": {},
     "nuid": "a044b5c1-bd96-46e4-b7a6-01e0d7061944",
     "showTitle": false,
     "tableResultSettingsMap": {},
     "title": ""
    }
   },
   "outputs": [],
   "source": []
  }
 ],
 "metadata": {
  "application/vnd.databricks.v1+notebook": {
   "computePreferences": null,
   "dashboards": [],
   "environmentMetadata": {
    "base_environment": "",
    "environment_version": "1"
   },
   "inputWidgetPreferences": null,
   "language": "python",
   "notebookMetadata": {
    "pythonIndentUnit": 4
   },
   "notebookName": "phone_usage_analysis",
   "widgets": {}
  }
 },
 "nbformat": 4,
 "nbformat_minor": 0
}